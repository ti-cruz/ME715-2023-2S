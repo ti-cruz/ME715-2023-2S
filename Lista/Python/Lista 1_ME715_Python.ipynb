{
 "cells": [
  {
   "cell_type": "markdown",
   "metadata": {},
   "source": [
    "<link rel=\"shortcut icon\" href=\"https://cdn-icons-png.flaticon.com/512/2640/2640637.png\">\n",
    "\n",
    "<div class=\"header\">\n",
    "  <img style=\"position:absolute; top:25px; right:15px; padding:8px;\"\n",
    "  src=\"https://cdn-icons-png.flaticon.com/512/2640/2640637.png\" width=\"110\" height=\"110\"/>\n",
    "</div>\n",
    "\n",
    "<link rel=\"shortcut icon\" href=\"https://upload.wikimedia.org/wikipedia/commons/thumb/c/c3/Python-logo-notext.svg/935px-Python-logo-notext.svg.png\">\n",
    "\n",
    "<div class=\"header\">\n",
    "  <img style=\"position:absolute; top:25px; right:125px; padding:8px;\"\n",
    "  src=\"https://upload.wikimedia.org/wikipedia/commons/thumb/c/c3/Python-logo-notext.svg/935px-Python-logo-notext.svg.png\" width=\"50\" height=\"50\"/>\n",
    "</div>"
   ]
  },
  {
   "cell_type": "markdown",
   "metadata": {},
   "source": [
    "# Listas 1 - ME715 2023/2S (Python)\n",
    "\n",
    "**Grupo:**\n",
    "\n",
    " - Tiago Henrique da Cruz, RA:206333.\n",
    " - Marcelo Marcelo Henrique de Jesus, RA: 183168.\n",
    " - João Vitor Mantovani, RA: 199910.\n",
    " \n",
    "**Instruções**\n",
    "\n",
    "  * A seguinte lista deve ser **resolvida em grupo antes da próxima aula**.\n",
    "  * A **resolução da lista será discutida em sala de aula por algúm dos grupos** (a participação\n",
    "será avaliada).\n",
    "  * O grupo/aluno que se negar a participar, terá pontos descontados.\n",
    "  * Os exercícios computacionais **deverão ser resolvidos em R, Python e Julia**. Se os\n",
    "resultados não baterem, o grupo deverá investigar o motivo das diferenças.\n",
    "\n",
    "**Instalando a biblioteca:** `wooldridge`"
   ]
  },
  {
   "cell_type": "code",
   "execution_count": null,
   "metadata": {},
   "outputs": [],
   "source": [
    "# pip install wooldridge"
   ]
  },
  {
   "cell_type": "markdown",
   "metadata": {},
   "source": [
    "**Carregando as biblioteca:**"
   ]
  },
  {
   "cell_type": "code",
   "execution_count": 2,
   "metadata": {},
   "outputs": [],
   "source": [
    "import wooldridge as wd\n",
    "import pandas as pd\n",
    "from scipy.stats import pearsonr\n",
    "import math"
   ]
  },
  {
   "cell_type": "markdown",
   "metadata": {},
   "source": [
    "## Questão 1\n",
    "\n",
    "[C3] Os dados existentes no arquivo MEAP01 são do estado de Michigan no ano de 2001:\n",
    "\n",
    "O Banco de dados contém 1823 observações e 11 variaveis, desses:\n",
    "\n",
    "  * **dcode**: código do distrito;\n",
    "  * **bcode**: código do edificio;\n",
    "  * **math4**: percentual de estudantes satisfeitos com a matematica da quarta série; \n",
    "  * **read4**: percuntual de estudantes satisfeitos com a leitura da quarta série;\n",
    "  * **lunch**: percentual de estudantes com almoço grátis ou desconto;\n",
    "  * **enroll**: matrícula escolar;\n",
    "  * **expend**: gasto total, ´$;\n",
    "  * **exppp**: despesas por aluno, gasto/matricula;\n",
    "  * **lenroll**: log(enroll);\n",
    "  * **lexpend**: log(expend);\n",
    "  * **lexppp**: log(exppp);"
   ]
  },
  {
   "cell_type": "code",
   "execution_count": 6,
   "metadata": {},
   "outputs": [
    {
     "data": {
      "text/html": [
       "<div>\n",
       "<style scoped>\n",
       "    .dataframe tbody tr th:only-of-type {\n",
       "        vertical-align: middle;\n",
       "    }\n",
       "\n",
       "    .dataframe tbody tr th {\n",
       "        vertical-align: top;\n",
       "    }\n",
       "\n",
       "    .dataframe thead th {\n",
       "        text-align: right;\n",
       "    }\n",
       "</style>\n",
       "<table border=\"1\" class=\"dataframe\">\n",
       "  <thead>\n",
       "    <tr style=\"text-align: right;\">\n",
       "      <th></th>\n",
       "      <th>dcode</th>\n",
       "      <th>bcode</th>\n",
       "      <th>math4</th>\n",
       "      <th>read4</th>\n",
       "      <th>lunch</th>\n",
       "      <th>enroll</th>\n",
       "      <th>expend</th>\n",
       "      <th>exppp</th>\n",
       "      <th>lenroll</th>\n",
       "      <th>lexpend</th>\n",
       "      <th>lexppp</th>\n",
       "    </tr>\n",
       "  </thead>\n",
       "  <tbody>\n",
       "    <tr>\n",
       "      <th>0</th>\n",
       "      <td>1010.0</td>\n",
       "      <td>4937</td>\n",
       "      <td>83.300003</td>\n",
       "      <td>77.800003</td>\n",
       "      <td>40.599998</td>\n",
       "      <td>468</td>\n",
       "      <td>2747475.0</td>\n",
       "      <td>5870.672852</td>\n",
       "      <td>6.148468</td>\n",
       "      <td>14.826193</td>\n",
       "      <td>8.677725</td>\n",
       "    </tr>\n",
       "    <tr>\n",
       "      <th>1</th>\n",
       "      <td>2070.0</td>\n",
       "      <td>597</td>\n",
       "      <td>90.300003</td>\n",
       "      <td>82.300003</td>\n",
       "      <td>27.100000</td>\n",
       "      <td>679</td>\n",
       "      <td>1505772.0</td>\n",
       "      <td>2217.631836</td>\n",
       "      <td>6.520621</td>\n",
       "      <td>14.224816</td>\n",
       "      <td>7.704195</td>\n",
       "    </tr>\n",
       "    <tr>\n",
       "      <th>2</th>\n",
       "      <td>2080.0</td>\n",
       "      <td>4860</td>\n",
       "      <td>61.900002</td>\n",
       "      <td>71.400002</td>\n",
       "      <td>41.750000</td>\n",
       "      <td>400</td>\n",
       "      <td>2121871.0</td>\n",
       "      <td>5304.677734</td>\n",
       "      <td>5.991465</td>\n",
       "      <td>14.567809</td>\n",
       "      <td>8.576344</td>\n",
       "    </tr>\n",
       "    <tr>\n",
       "      <th>3</th>\n",
       "      <td>3010.0</td>\n",
       "      <td>790</td>\n",
       "      <td>85.699997</td>\n",
       "      <td>60.000000</td>\n",
       "      <td>12.750000</td>\n",
       "      <td>251</td>\n",
       "      <td>1211034.0</td>\n",
       "      <td>4824.836426</td>\n",
       "      <td>5.525453</td>\n",
       "      <td>14.006985</td>\n",
       "      <td>8.481532</td>\n",
       "    </tr>\n",
       "    <tr>\n",
       "      <th>4</th>\n",
       "      <td>3010.0</td>\n",
       "      <td>1403</td>\n",
       "      <td>77.300003</td>\n",
       "      <td>59.099998</td>\n",
       "      <td>17.080000</td>\n",
       "      <td>439</td>\n",
       "      <td>1913501.0</td>\n",
       "      <td>4358.771973</td>\n",
       "      <td>6.084499</td>\n",
       "      <td>14.464445</td>\n",
       "      <td>8.379946</td>\n",
       "    </tr>\n",
       "    <tr>\n",
       "      <th>...</th>\n",
       "      <td>...</td>\n",
       "      <td>...</td>\n",
       "      <td>...</td>\n",
       "      <td>...</td>\n",
       "      <td>...</td>\n",
       "      <td>...</td>\n",
       "      <td>...</td>\n",
       "      <td>...</td>\n",
       "      <td>...</td>\n",
       "      <td>...</td>\n",
       "      <td>...</td>\n",
       "    </tr>\n",
       "    <tr>\n",
       "      <th>1818</th>\n",
       "      <td>83010.0</td>\n",
       "      <td>2024</td>\n",
       "      <td>93.599998</td>\n",
       "      <td>57.400002</td>\n",
       "      <td>50.529999</td>\n",
       "      <td>285</td>\n",
       "      <td>1484497.0</td>\n",
       "      <td>5208.761230</td>\n",
       "      <td>5.652489</td>\n",
       "      <td>14.210587</td>\n",
       "      <td>8.558097</td>\n",
       "    </tr>\n",
       "    <tr>\n",
       "      <th>1819</th>\n",
       "      <td>83010.0</td>\n",
       "      <td>2210</td>\n",
       "      <td>69.000000</td>\n",
       "      <td>48.799999</td>\n",
       "      <td>53.670002</td>\n",
       "      <td>259</td>\n",
       "      <td>1279763.0</td>\n",
       "      <td>4941.169922</td>\n",
       "      <td>5.556828</td>\n",
       "      <td>14.062185</td>\n",
       "      <td>8.505358</td>\n",
       "    </tr>\n",
       "    <tr>\n",
       "      <th>1820</th>\n",
       "      <td>83010.0</td>\n",
       "      <td>2480</td>\n",
       "      <td>72.500000</td>\n",
       "      <td>63.400002</td>\n",
       "      <td>46.849998</td>\n",
       "      <td>254</td>\n",
       "      <td>1241369.0</td>\n",
       "      <td>4887.279297</td>\n",
       "      <td>5.537334</td>\n",
       "      <td>14.031725</td>\n",
       "      <td>8.494391</td>\n",
       "    </tr>\n",
       "    <tr>\n",
       "      <th>1821</th>\n",
       "      <td>83010.0</td>\n",
       "      <td>5101</td>\n",
       "      <td>81.000000</td>\n",
       "      <td>73.800003</td>\n",
       "      <td>34.299999</td>\n",
       "      <td>277</td>\n",
       "      <td>1312697.0</td>\n",
       "      <td>4738.978516</td>\n",
       "      <td>5.624018</td>\n",
       "      <td>14.087594</td>\n",
       "      <td>8.463577</td>\n",
       "    </tr>\n",
       "    <tr>\n",
       "      <th>1822</th>\n",
       "      <td>83070.0</td>\n",
       "      <td>2527</td>\n",
       "      <td>88.099998</td>\n",
       "      <td>56.700001</td>\n",
       "      <td>52.920002</td>\n",
       "      <td>650</td>\n",
       "      <td>1660206.0</td>\n",
       "      <td>2554.163086</td>\n",
       "      <td>6.476973</td>\n",
       "      <td>14.322453</td>\n",
       "      <td>7.845480</td>\n",
       "    </tr>\n",
       "  </tbody>\n",
       "</table>\n",
       "<p>1823 rows × 11 columns</p>\n",
       "</div>"
      ],
      "text/plain": [
       "        dcode  bcode      math4      read4      lunch  enroll     expend  \\\n",
       "0      1010.0   4937  83.300003  77.800003  40.599998     468  2747475.0   \n",
       "1      2070.0    597  90.300003  82.300003  27.100000     679  1505772.0   \n",
       "2      2080.0   4860  61.900002  71.400002  41.750000     400  2121871.0   \n",
       "3      3010.0    790  85.699997  60.000000  12.750000     251  1211034.0   \n",
       "4      3010.0   1403  77.300003  59.099998  17.080000     439  1913501.0   \n",
       "...       ...    ...        ...        ...        ...     ...        ...   \n",
       "1818  83010.0   2024  93.599998  57.400002  50.529999     285  1484497.0   \n",
       "1819  83010.0   2210  69.000000  48.799999  53.670002     259  1279763.0   \n",
       "1820  83010.0   2480  72.500000  63.400002  46.849998     254  1241369.0   \n",
       "1821  83010.0   5101  81.000000  73.800003  34.299999     277  1312697.0   \n",
       "1822  83070.0   2527  88.099998  56.700001  52.920002     650  1660206.0   \n",
       "\n",
       "            exppp   lenroll    lexpend    lexppp  \n",
       "0     5870.672852  6.148468  14.826193  8.677725  \n",
       "1     2217.631836  6.520621  14.224816  7.704195  \n",
       "2     5304.677734  5.991465  14.567809  8.576344  \n",
       "3     4824.836426  5.525453  14.006985  8.481532  \n",
       "4     4358.771973  6.084499  14.464445  8.379946  \n",
       "...           ...       ...        ...       ...  \n",
       "1818  5208.761230  5.652489  14.210587  8.558097  \n",
       "1819  4941.169922  5.556828  14.062185  8.505358  \n",
       "1820  4887.279297  5.537334  14.031725  8.494391  \n",
       "1821  4738.978516  5.624018  14.087594  8.463577  \n",
       "1822  2554.163086  6.476973  14.322453  7.845480  \n",
       "\n",
       "[1823 rows x 11 columns]"
      ]
     },
     "execution_count": 6,
     "metadata": {},
     "output_type": "execute_result"
    }
   ],
   "source": [
    "df = wd.data('meap01')"
   ]
  },
  {
   "cell_type": "markdown",
   "metadata": {},
   "source": [
    "Use esses dados para responder às seguintes perguntas:\n",
    "\n",
    "### item a) \n",
    "\n",
    "Encontre os **maiores e menores valores de math4**."
   ]
  },
  {
   "cell_type": "code",
   "execution_count": 9,
   "metadata": {},
   "outputs": [
    {
     "data": {
      "text/html": [
       "<div>\n",
       "<style scoped>\n",
       "    .dataframe tbody tr th:only-of-type {\n",
       "        vertical-align: middle;\n",
       "    }\n",
       "\n",
       "    .dataframe tbody tr th {\n",
       "        vertical-align: top;\n",
       "    }\n",
       "\n",
       "    .dataframe thead th {\n",
       "        text-align: right;\n",
       "    }\n",
       "</style>\n",
       "<table border=\"1\" class=\"dataframe\">\n",
       "  <thead>\n",
       "    <tr style=\"text-align: right;\">\n",
       "      <th></th>\n",
       "      <th>Minimo</th>\n",
       "      <th>Maximo</th>\n",
       "    </tr>\n",
       "  </thead>\n",
       "  <tbody>\n",
       "    <tr>\n",
       "      <th>math4</th>\n",
       "      <td>0.0</td>\n",
       "      <td>100.0</td>\n",
       "    </tr>\n",
       "  </tbody>\n",
       "</table>\n",
       "</div>"
      ],
      "text/plain": [
       "       Minimo  Maximo\n",
       "math4     0.0   100.0"
      ]
     },
     "execution_count": 9,
     "metadata": {},
     "output_type": "execute_result"
    }
   ],
   "source": [
    "pd.DataFrame({\"Minimo\":df[[\"math4\"]].min(),\n",
    "              \"Maximo\":df[[\"math4\"]].max()})"
   ]
  },
  {
   "cell_type": "markdown",
   "metadata": {},
   "source": [
    "### item b)"
   ]
  },
  {
   "cell_type": "markdown",
   "metadata": {},
   "source": [
    "Quantas escolas têm a **taxa de aprovação em matemática de exatamente 50%**?"
   ]
  },
  {
   "cell_type": "code",
   "execution_count": 11,
   "metadata": {},
   "outputs": [
    {
     "data": {
      "text/html": [
       "<div>\n",
       "<style scoped>\n",
       "    .dataframe tbody tr th:only-of-type {\n",
       "        vertical-align: middle;\n",
       "    }\n",
       "\n",
       "    .dataframe tbody tr th {\n",
       "        vertical-align: top;\n",
       "    }\n",
       "\n",
       "    .dataframe thead th {\n",
       "        text-align: right;\n",
       "    }\n",
       "</style>\n",
       "<table border=\"1\" class=\"dataframe\">\n",
       "  <thead>\n",
       "    <tr style=\"text-align: right;\">\n",
       "      <th></th>\n",
       "      <th>Quantidade de escolas aprovadas em matemática com exatamente 50%</th>\n",
       "    </tr>\n",
       "  </thead>\n",
       "  <tbody>\n",
       "    <tr>\n",
       "      <th>0</th>\n",
       "      <td>17</td>\n",
       "    </tr>\n",
       "  </tbody>\n",
       "</table>\n",
       "</div>"
      ],
      "text/plain": [
       "   Quantidade de escolas aprovadas em matemática com exatamente 50%\n",
       "0                                                 17               "
      ]
     },
     "execution_count": 11,
     "metadata": {},
     "output_type": "execute_result"
    }
   ],
   "source": [
    "pd.DataFrame({\"Quantidade de escolas aprovadas em matemática com exatamente 50%\": \n",
    "              [len(df[df.math4 == 50])]})"
   ]
  },
  {
   "cell_type": "markdown",
   "metadata": {},
   "source": [
    "### item c)\n",
    "\n",
    "Compare as taxas médias de aprovação em matemática e leitura."
   ]
  },
  {
   "cell_type": "code",
   "execution_count": 14,
   "metadata": {},
   "outputs": [
    {
     "data": {
      "text/html": [
       "<div>\n",
       "<style scoped>\n",
       "    .dataframe tbody tr th:only-of-type {\n",
       "        vertical-align: middle;\n",
       "    }\n",
       "\n",
       "    .dataframe tbody tr th {\n",
       "        vertical-align: top;\n",
       "    }\n",
       "\n",
       "    .dataframe thead th {\n",
       "        text-align: right;\n",
       "    }\n",
       "</style>\n",
       "<table border=\"1\" class=\"dataframe\">\n",
       "  <thead>\n",
       "    <tr style=\"text-align: right;\">\n",
       "      <th></th>\n",
       "      <th>math4</th>\n",
       "      <th>read4</th>\n",
       "    </tr>\n",
       "  </thead>\n",
       "  <tbody>\n",
       "    <tr>\n",
       "      <th>Média</th>\n",
       "      <td>71.909</td>\n",
       "      <td>60.062</td>\n",
       "    </tr>\n",
       "  </tbody>\n",
       "</table>\n",
       "</div>"
      ],
      "text/plain": [
       "        math4   read4\n",
       "Média  71.909  60.062"
      ]
     },
     "execution_count": 14,
     "metadata": {},
     "output_type": "execute_result"
    }
   ],
   "source": [
    "df.loc[:,[\"math4\",\"read4\"]].\\\n",
    "    agg([\"mean\"]).\\\n",
    "    round(3).\\\n",
    "    rename(index={\"mean\":\"Média\"})"
   ]
  },
  {
   "cell_type": "code",
   "execution_count": 15,
   "metadata": {},
   "outputs": [
    {
     "name": "stdout",
     "output_type": "stream",
     "text": [
      "O teste com aprovação mais dificil é a leitura com: 60.062\n"
     ]
    }
   ],
   "source": [
    "print('O teste com aprovação mais dificil é a leitura com: %.3f' % df[\"read4\"].mean())"
   ]
  },
  {
   "cell_type": "markdown",
   "metadata": {},
   "source": [
    "### item d)"
   ]
  },
  {
   "cell_type": "markdown",
   "metadata": {},
   "source": [
    "Encontre a correlação entre math4 e read4."
   ]
  },
  {
   "cell_type": "code",
   "execution_count": 16,
   "metadata": {},
   "outputs": [
    {
     "name": "stdout",
     "output_type": "stream",
     "text": [
      "Temos a correlação entre math4 e read4 de: 0.8427\n"
     ]
    },
    {
     "data": {
      "text/plain": [
       "(0.8427281457721156, 0.0)"
      ]
     },
     "execution_count": 16,
     "metadata": {},
     "output_type": "execute_result"
    }
   ],
   "source": [
    "print('Temos a correlação entre math4 e read4 de: %.4f' % \n",
    "      pearsonr(df['math4'], df['read4'])[0])"
   ]
  },
  {
   "cell_type": "markdown",
   "metadata": {},
   "source": [
    "### item e)\n",
    "\n",
    "A variável exppp são os gastos por aluno. **Encontre o exppp médio e seu desvio padrão**."
   ]
  },
  {
   "cell_type": "code",
   "execution_count": 18,
   "metadata": {},
   "outputs": [
    {
     "data": {
      "text/html": [
       "<div>\n",
       "<style scoped>\n",
       "    .dataframe tbody tr th:only-of-type {\n",
       "        vertical-align: middle;\n",
       "    }\n",
       "\n",
       "    .dataframe tbody tr th {\n",
       "        vertical-align: top;\n",
       "    }\n",
       "\n",
       "    .dataframe thead th {\n",
       "        text-align: right;\n",
       "    }\n",
       "</style>\n",
       "<table border=\"1\" class=\"dataframe\">\n",
       "  <thead>\n",
       "    <tr style=\"text-align: right;\">\n",
       "      <th></th>\n",
       "      <th>exppp</th>\n",
       "    </tr>\n",
       "  </thead>\n",
       "  <tbody>\n",
       "    <tr>\n",
       "      <th>Médio</th>\n",
       "      <td>5194.865</td>\n",
       "    </tr>\n",
       "    <tr>\n",
       "      <th>Desvio padrão</th>\n",
       "      <td>1091.890</td>\n",
       "    </tr>\n",
       "  </tbody>\n",
       "</table>\n",
       "</div>"
      ],
      "text/plain": [
       "                  exppp\n",
       "Médio          5194.865\n",
       "Desvio padrão  1091.890"
      ]
     },
     "execution_count": 18,
     "metadata": {},
     "output_type": "execute_result"
    }
   ],
   "source": [
    "df.loc[:,[\"exppp\"]].\\\n",
    "    agg([\"mean\", \"std\"]).\\\n",
    "    round(3).\\\n",
    "    rename(index={\"mean\":\"Médio\",\n",
    "                  \"std\":\"Desvio padrão\"})"
   ]
  },
  {
   "cell_type": "markdown",
   "metadata": {},
   "source": [
    "### item f)\n",
    "\n",
    "Suponha que a escola A gaste `USD$6.000` por estudante e a escola B gaste `USD$5.500` por estudante. Com que percentual os gastos da escola A superam os da escola B? Compare isso a 100 × [log(6.000) − log(5.500)], que é a diferença percentual aproximada baseada na diferença dos logaritmos.\n"
   ]
  },
  {
   "cell_type": "code",
   "execution_count": 36,
   "metadata": {},
   "outputs": [
    {
     "name": "stdout",
     "output_type": "stream",
     "text": [
      "Temos que os gastos da escola A que superam os da escola B em 0.39%.\n"
     ]
    }
   ],
   "source": [
    "Atual = 100*((6000-5500)/5500)\n",
    "log_val = 100*(math.log(6000)-math.log(5500))\n",
    "\n",
    "print('Temos que os gastos da escola A que superam \\\n",
    "os da escola B em %.2f%%.' %(Atual-log_val))"
   ]
  },
  {
   "cell_type": "markdown",
   "metadata": {},
   "source": [
    "## Questão 2\n",
    "\n",
    "[C8] Os dados em ECONMATH foram obtidos de **estudantes de um grande curso universitário em introdução à microeconomia**. Para este probrema, estamos interessados em duas variáveis: **`score`, que é a nota do final do curso**, e, **`econhs`, que é uma variável binária que indica se um estudante fez um curso de economia no ensino médio**.\n",
    "\n",
    "Seja as seguintes variaveis:\n",
    "\n",
    "  * **age**: idade em anos;\n",
    "  * **work**: horas de trabalho por semana;\n",
    "  * **study**: horas de estudo por semana; \n",
    "  * **econhs**: se for 1, estudou economia no ensino médio;\n",
    "  * **colgpa**: faculdade GPA, inicio do semestre;\n",
    "  * **hsgpa**: nota média do ensino médio;\n",
    "  * **acteng**: pontuação do inglês ACT;\n",
    "  * **actmth**: pontuação da ACT;\n",
    "  * **act**: composto ACT;\n",
    "  * **mathscr**: pontuação do teste de matemática, 0-10;\n",
    "  * **male**: se for 1, masculino;\n",
    "  * **calculus**: se for 1, cursou cálculo;\n",
    "  * **attexc**: se for 1, se passado attndce 'excelente'; \n",
    "  * **attgood**: se for 1, se passado attndce 'bom';\n",
    "  * **fathcoll**: se for 1, o pai tem BA;\n",
    "  * **mothcoll**: se for 1, a mãe tem BA;\n",
    "  * **score**: nota do final do curso, em porcentual;   \n"
   ]
  },
  {
   "cell_type": "code",
   "execution_count": 37,
   "metadata": {},
   "outputs": [],
   "source": [
    "df2 = wd.data('econmath')"
   ]
  },
  {
   "cell_type": "markdown",
   "metadata": {},
   "source": [
    "### item a)\n",
    "\n",
    "Quantos estudantes estão na amostra? Quantos estudantes declaram ter frequentado um curso de economia no ensino médio?"
   ]
  },
  {
   "cell_type": "code",
   "execution_count": 42,
   "metadata": {
    "scrolled": true
   },
   "outputs": [
    {
     "data": {
      "text/html": [
       "<div>\n",
       "<style scoped>\n",
       "    .dataframe tbody tr th:only-of-type {\n",
       "        vertical-align: middle;\n",
       "    }\n",
       "\n",
       "    .dataframe tbody tr th {\n",
       "        vertical-align: top;\n",
       "    }\n",
       "\n",
       "    .dataframe thead th {\n",
       "        text-align: right;\n",
       "    }\n",
       "</style>\n",
       "<table border=\"1\" class=\"dataframe\">\n",
       "  <thead>\n",
       "    <tr style=\"text-align: right;\">\n",
       "      <th></th>\n",
       "      <th>Quantidade</th>\n",
       "    </tr>\n",
       "  </thead>\n",
       "  <tbody>\n",
       "    <tr>\n",
       "      <th>Alunos que cursou economia no ensino médio</th>\n",
       "      <td>317</td>\n",
       "    </tr>\n",
       "    <tr>\n",
       "      <th>Total de estudantes</th>\n",
       "      <td>856</td>\n",
       "    </tr>\n",
       "  </tbody>\n",
       "</table>\n",
       "</div>"
      ],
      "text/plain": [
       "                                            Quantidade\n",
       "Alunos que cursou economia no ensino médio         317\n",
       "Total de estudantes                                856"
      ]
     },
     "execution_count": 42,
     "metadata": {},
     "output_type": "execute_result"
    }
   ],
   "source": [
    "def len_econhs_1(x):\n",
    "    return(\n",
    "        x.loc[x==1].\\\n",
    "        agg(len)\n",
    "    )\n",
    "\n",
    "df2.loc[:, [\"econhs\"]].\\\n",
    "    agg([len_econhs_1, len]).\\\n",
    "    rename(index={\"len_econhs_1\":\"Alunos que cursou economia no ensino médio\",\n",
    "                  \"len\":\"Total de estudantes\"},\n",
    "          columns = {\"econhs\": \"Quantidade\"})"
   ]
  },
  {
   "cell_type": "markdown",
   "metadata": {},
   "source": [
    "### item b)\n",
    "\n",
    "Encontre a nota média dos alunos que frequentaram um curso de economia do ensino médio. Como se compara com a nota média daqueles que não o fizeram?"
   ]
  },
  {
   "cell_type": "code",
   "execution_count": 45,
   "metadata": {
    "scrolled": true
   },
   "outputs": [
    {
     "data": {
      "text/html": [
       "<div>\n",
       "<style scoped>\n",
       "    .dataframe tbody tr th:only-of-type {\n",
       "        vertical-align: middle;\n",
       "    }\n",
       "\n",
       "    .dataframe tbody tr th {\n",
       "        vertical-align: top;\n",
       "    }\n",
       "\n",
       "    .dataframe thead tr th {\n",
       "        text-align: left;\n",
       "    }\n",
       "\n",
       "    .dataframe thead tr:last-of-type th {\n",
       "        text-align: right;\n",
       "    }\n",
       "</style>\n",
       "<table border=\"1\" class=\"dataframe\">\n",
       "  <thead>\n",
       "    <tr>\n",
       "      <th></th>\n",
       "      <th>Nota</th>\n",
       "    </tr>\n",
       "    <tr>\n",
       "      <th></th>\n",
       "      <th>Média</th>\n",
       "    </tr>\n",
       "    <tr>\n",
       "      <th>econhs</th>\n",
       "      <th></th>\n",
       "    </tr>\n",
       "  </thead>\n",
       "  <tbody>\n",
       "    <tr>\n",
       "      <th>Não</th>\n",
       "      <td>72.9079</td>\n",
       "    </tr>\n",
       "    <tr>\n",
       "      <th>Sim</th>\n",
       "      <td>72.0759</td>\n",
       "    </tr>\n",
       "  </tbody>\n",
       "</table>\n",
       "</div>"
      ],
      "text/plain": [
       "           Nota\n",
       "          Média\n",
       "econhs         \n",
       "Não     72.9079\n",
       "Sim     72.0759"
      ]
     },
     "execution_count": 45,
     "metadata": {},
     "output_type": "execute_result"
    }
   ],
   "source": [
    "#df2[df2.econhs == 0].\\\n",
    "#    groupby(\"econhs\")[[\"score\"]].\\\n",
    "#    agg(\"mean\").values[0][0].round(4)\n",
    "\n",
    "df2.groupby(\"econhs\")[[\"score\"]].\\\n",
    "    agg([\"mean\"]).\\\n",
    "    round(4).\\\n",
    "    rename(columns = {\"score\": \"Nota\",\n",
    "                      \"mean\": \"Média\"},\n",
    "           index={0:\"Não\",\n",
    "                  1:\"Sim\"})"
   ]
  },
  {
   "cell_type": "code",
   "execution_count": 27,
   "metadata": {
    "scrolled": true
   },
   "outputs": [
    {
     "name": "stdout",
     "output_type": "stream",
     "text": [
      "Os estudantes que não fizeram economia no ensino médio teve um desempenho maior daqueles que realizaram, com um diferencial de 0.832.\n"
     ]
    }
   ],
   "source": [
    "print('Os estudantes que não fizeram economia no ensino médio \\\n",
    "teve um desempenho maior daqueles que realizaram, com um diferencial de 0.832.')"
   ]
  },
  {
   "cell_type": "markdown",
   "metadata": {},
   "source": [
    "### item c)\n",
    "\n",
    "Os resultados encontrados dizem necessariamente alguma coisa sobre o efeito causal de cursar economia no ensino médio sobre o desempenho no curso universitário? (explique).\n",
    "\n",
    "Através dos resultados obtidos, não é possível afirmar a existência de um efeito causal em cursar economia no ensino médio sobre o desempenho no curso universitário. Isso se dá devido ao modo em que o experimento foi realizado. O experimento em questão é observacional, o que dificulta o estudo de fatores de confundimento e assim portanto impossibilitando a análise de efeito causal entre os fatores."
   ]
  },
  {
   "cell_type": "markdown",
   "metadata": {},
   "source": [
    "### item d)\n",
    "\n",
    "Se quiser obter uma boa estimativa causal do efeito de fazer um curso de economia no ensino médio utilizando a diferença de médias, que experiência faria?"
   ]
  },
  {
   "cell_type": "markdown",
   "metadata": {},
   "source": [
    "Para o estudo dos efeitos de causalidade, podemos melhorar o experimento de modo a balancear as classes do tratamento de interesse adicionar possíveis fatores de confundimento no experimento. De modo a realizar um experimento balanceado, podemos obter uma amostra com um número igual de alunos que estudaram economia no ensino médio e de alunos que não estudaram. Além da realização de um experimento balanceado, para o estudo de causalidade, é interessante adicionar no conjunto de dados possíveis fatores de confundimento, artigos científico já realizados e relacionados ao assunto seriam consultados."
   ]
  },
  {
   "cell_type": "code",
   "execution_count": null,
   "metadata": {},
   "outputs": [],
   "source": []
  }
 ],
 "metadata": {
  "kernelspec": {
   "display_name": "Python 3",
   "language": "python",
   "name": "python3"
  },
  "language_info": {
   "codemirror_mode": {
    "name": "ipython",
    "version": 3
   },
   "file_extension": ".py",
   "mimetype": "text/x-python",
   "name": "python",
   "nbconvert_exporter": "python",
   "pygments_lexer": "ipython3",
   "version": "3.8.5"
  }
 },
 "nbformat": 4,
 "nbformat_minor": 4
}
