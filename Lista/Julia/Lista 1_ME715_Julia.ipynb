{
 "cells": [
  {
   "cell_type": "markdown",
   "metadata": {},
   "source": [
    "<link rel=\"shortcut icon\" href=\"https://cdn-icons-png.flaticon.com/512/2640/2640637.png\">\n",
    "\n",
    "<div class=\"header\">\n",
    "  <img style=\"position:absolute; top:25px; right:15px; padding:8px;\"\n",
    "  src=\"https://cdn-icons-png.flaticon.com/512/2640/2640637.png\" width=\"110\" height=\"110\"/>\n",
    "</div>\n",
    "\n",
    "<link rel=\"shortcut icon\" href=\"https://upload.wikimedia.org/wikipedia/commons/thumb/6/69/Julia_prog_language.svg/1200px-Julia_prog_language.svg.png\">\n",
    "\n",
    "<div class=\"header\">\n",
    "  <img style=\"position:absolute; top:25px; right:125px; padding:8px;\"\n",
    "  src=\"https://upload.wikimedia.org/wikipedia/commons/thumb/6/69/Julia_prog_language.svg/1200px-Julia_prog_language.svg.png\" width=\"65\" height=\"65\"/>\n",
    "</div>"
   ]
  },
  {
   "cell_type": "markdown",
   "metadata": {},
   "source": [
    "# Listas 1 - ME715 2023/2S (Julia)\n",
    "\n",
    "**Grupo:**\n",
    "\n",
    " - Tiago Henrique da Cruz, RA:206333.\n",
    " - Marcelo Marcelo Henrique de Jesus, RA: 183168.\n",
    " - João Vitor Mantovani, RA: 199910.\n",
    " \n",
    "**Instruções**\n",
    "\n",
    "  * A seguinte lista deve ser **resolvida em grupo antes da próxima aula**.\n",
    "  * A **resolução da lista será discutida em sala de aula por algúm dos grupos** (a participação\n",
    "será avaliada).\n",
    "  * O grupo/aluno que se negar a participar, terá pontos descontados.\n",
    "  * Os exercícios computacionais **deverão ser resolvidos em R, Python e Julia**. Se os\n",
    "resultados não baterem, o grupo deverá investigar o motivo das diferenças.\n",
    "\n",
    "**Pacote:** `wooldridge`"
   ]
  },
  {
   "cell_type": "code",
   "execution_count": 188,
   "metadata": {},
   "outputs": [],
   "source": [
    "#Instalação \n",
    "#using Pkg\n",
    "#Pkg.add(\"DataFrames\")\n",
    "#Pkg.add(\"WooldridgeDatasets\")\n",
    "#Pkg.add(\"Statistics\")"
   ]
  },
  {
   "cell_type": "code",
   "execution_count": 189,
   "metadata": {},
   "outputs": [],
   "source": [
    "#Carregando\n",
    "using WooldridgeDatasets\n",
    "using DataFrames\n",
    "using Statistics"
   ]
  },
  {
   "cell_type": "markdown",
   "metadata": {},
   "source": [
    "## Questão 1\n",
    "\n",
    "[C3] Os dados existentes no arquivo MEAP01 são do estado de Michigan no ano de 2001:\n",
    "\n",
    "O Banco de dados contém 1823 observações e 11 variaveis, desses:\n",
    "\n",
    "  * **dcode**: código do distrito;\n",
    "  * **bcode**: código do edificio;\n",
    "  * **math4**: percentual de estudantes satisfeitos com a matematica da quarta série; \n",
    "  * **read4**: percuntual de estudantes satisfeitos com a leitura da quarta série;\n",
    "  * **lunch**: percentual de estudantes com almoço grátis ou desconto;\n",
    "  * **enroll**: matrícula escolar;\n",
    "  * **expend**: gasto total, ´$;\n",
    "  * **exppp**: despesas por aluno, gasto/matricula;\n",
    "  * **lenroll**: log(enroll);\n",
    "  * **lexpend**: log(expend);\n",
    "  * **lexppp**: log(exppp);"
   ]
  },
  {
   "cell_type": "code",
   "execution_count": 190,
   "metadata": {},
   "outputs": [],
   "source": [
    "meap01 = DataFrame(wooldridge(\"meap01\"));"
   ]
  },
  {
   "cell_type": "markdown",
   "metadata": {},
   "source": [
    "Use esses dados para responder às seguintes perguntas:\n",
    "\n",
    "### item a) \n",
    "\n",
    "Encontre os **maiores e menores valores de math4**."
   ]
  },
  {
   "cell_type": "code",
   "execution_count": 191,
   "metadata": {},
   "outputs": [
    {
     "data": {
      "text/html": [
       "<div><div style = \"float: left;\"><span>1×2 DataFrame</span></div><div style = \"clear: both;\"></div></div><div class = \"data-frame\" style = \"overflow-x: scroll;\"><table class = \"data-frame\" style = \"margin-bottom: 6px;\"><thead><tr class = \"header\"><th class = \"rowNumber\" style = \"font-weight: bold; text-align: right;\">Row</th><th style = \"text-align: left;\">Minima</th><th style = \"text-align: left;\">Maxima</th></tr><tr class = \"subheader headerLastRow\"><th class = \"rowNumber\" style = \"font-weight: bold; text-align: right;\"></th><th title = \"Float64\" style = \"text-align: left;\">Float64</th><th title = \"Float64\" style = \"text-align: left;\">Float64</th></tr></thead><tbody><tr><td class = \"rowNumber\" style = \"font-weight: bold; text-align: right;\">1</td><td style = \"text-align: right;\">0.0</td><td style = \"text-align: right;\">100.0</td></tr></tbody></table></div>"
      ],
      "text/latex": [
       "\\begin{tabular}{r|cc}\n",
       "\t& Minima & Maxima\\\\\n",
       "\t\\hline\n",
       "\t& Float64 & Float64\\\\\n",
       "\t\\hline\n",
       "\t1 & 0.0 & 100.0 \\\\\n",
       "\\end{tabular}\n"
      ],
      "text/plain": [
       "\u001b[1m1×2 DataFrame\u001b[0m\n",
       "\u001b[1m Row \u001b[0m│\u001b[1m Minima  \u001b[0m\u001b[1m Maxima  \u001b[0m\n",
       "     │\u001b[90m Float64 \u001b[0m\u001b[90m Float64 \u001b[0m\n",
       "─────┼──────────────────\n",
       "   1 │     0.0    100.0"
      ]
     },
     "execution_count": 191,
     "metadata": {},
     "output_type": "execute_result"
    }
   ],
   "source": [
    "DataFrame(Minima = minimum(meap01.math4),\n",
    "          Maxima = maximum(meap01.math4))"
   ]
  },
  {
   "cell_type": "markdown",
   "metadata": {},
   "source": [
    "### item b)\n",
    "\n",
    "Quantas escolas têm a **taxa de aprovação em matemática de exatamente 50%**?"
   ]
  },
  {
   "cell_type": "code",
   "execution_count": 192,
   "metadata": {},
   "outputs": [
    {
     "data": {
      "text/html": [
       "<div><div style = \"float: left;\"><span>1×1 DataFrame</span></div><div style = \"clear: both;\"></div></div><div class = \"data-frame\" style = \"overflow-x: scroll;\"><table class = \"data-frame\" style = \"margin-bottom: 6px;\"><thead><tr class = \"header\"><th class = \"rowNumber\" style = \"font-weight: bold; text-align: right;\">Row</th><th style = \"text-align: left;\">Quantidade_de_escolas_aprovadas_em_matemática_com_exatamente_50</th></tr><tr class = \"subheader headerLastRow\"><th class = \"rowNumber\" style = \"font-weight: bold; text-align: right;\"></th><th title = \"Int64\" style = \"text-align: left;\">Int64</th></tr></thead><tbody><tr><td class = \"rowNumber\" style = \"font-weight: bold; text-align: right;\">1</td><td style = \"text-align: right;\">17</td></tr></tbody></table></div>"
      ],
      "text/latex": [
       "\\begin{tabular}{r|c}\n",
       "\t& Quantidade\\_de\\_escolas\\_aprovadas\\_em\\_matemática\\_com\\_exatamente\\_50\\\\\n",
       "\t\\hline\n",
       "\t& Int64\\\\\n",
       "\t\\hline\n",
       "\t1 & 17 \\\\\n",
       "\\end{tabular}\n"
      ],
      "text/plain": [
       "\u001b[1m1×1 DataFrame\u001b[0m\n",
       "\u001b[1m Row \u001b[0m│\u001b[1m Quantidade_de_escolas_aprovadas_em_matemática_com_exatamente_50 \u001b[0m\n",
       "     │\u001b[90m Int64                                                           \u001b[0m\n",
       "─────┼─────────────────────────────────────────────────────────────────\n",
       "   1 │                                                              17"
      ]
     },
     "execution_count": 192,
     "metadata": {},
     "output_type": "execute_result"
    }
   ],
   "source": [
    "DataFrame(Quantidade_de_escolas_aprovadas_em_matemática_com_exatamente_50 = \n",
    "    size(filter(row -> row.math4 == 50, meap01),1))"
   ]
  },
  {
   "cell_type": "markdown",
   "metadata": {},
   "source": [
    "### item c)\n",
    "\n",
    "Compare as taxas médias de aprovação em matemática e leitura."
   ]
  },
  {
   "cell_type": "code",
   "execution_count": 193,
   "metadata": {},
   "outputs": [
    {
     "data": {
      "text/html": [
       "<div><div style = \"float: left;\"><span>2×2 DataFrame</span></div><div style = \"clear: both;\"></div></div><div class = \"data-frame\" style = \"overflow-x: scroll;\"><table class = \"data-frame\" style = \"margin-bottom: 6px;\"><thead><tr class = \"header\"><th class = \"rowNumber\" style = \"font-weight: bold; text-align: right;\">Row</th><th style = \"text-align: left;\">variable</th><th style = \"text-align: left;\">mean</th></tr><tr class = \"subheader headerLastRow\"><th class = \"rowNumber\" style = \"font-weight: bold; text-align: right;\"></th><th title = \"Symbol\" style = \"text-align: left;\">Symbol</th><th title = \"Float64\" style = \"text-align: left;\">Float64</th></tr></thead><tbody><tr><td class = \"rowNumber\" style = \"font-weight: bold; text-align: right;\">1</td><td style = \"text-align: left;\">math4</td><td style = \"text-align: right;\">71.909</td></tr><tr><td class = \"rowNumber\" style = \"font-weight: bold; text-align: right;\">2</td><td style = \"text-align: left;\">read4</td><td style = \"text-align: right;\">60.0619</td></tr></tbody></table></div>"
      ],
      "text/latex": [
       "\\begin{tabular}{r|cc}\n",
       "\t& variable & mean\\\\\n",
       "\t\\hline\n",
       "\t& Symbol & Float64\\\\\n",
       "\t\\hline\n",
       "\t1 & math4 & 71.909 \\\\\n",
       "\t2 & read4 & 60.0619 \\\\\n",
       "\\end{tabular}\n"
      ],
      "text/plain": [
       "\u001b[1m2×2 DataFrame\u001b[0m\n",
       "\u001b[1m Row \u001b[0m│\u001b[1m variable \u001b[0m\u001b[1m mean    \u001b[0m\n",
       "     │\u001b[90m Symbol   \u001b[0m\u001b[90m Float64 \u001b[0m\n",
       "─────┼───────────────────\n",
       "   1 │ math4     71.909\n",
       "   2 │ read4     60.0619"
      ]
     },
     "execution_count": 193,
     "metadata": {},
     "output_type": "execute_result"
    }
   ],
   "source": [
    "describe(select(meap01, [:math4, :read4]), :mean)"
   ]
  },
  {
   "cell_type": "markdown",
   "metadata": {},
   "source": [
    "O teste com aprovação mais dificil é a leitura com: 60.062"
   ]
  },
  {
   "cell_type": "markdown",
   "metadata": {},
   "source": [
    "### item d)\n",
    "\n",
    "Encontre a correlação entre math4 e read4."
   ]
  },
  {
   "cell_type": "code",
   "execution_count": 194,
   "metadata": {},
   "outputs": [
    {
     "name": "stdout",
     "output_type": "stream",
     "text": [
      "Temos a correlação entre math4 e read4 de 0.8427\n"
     ]
    }
   ],
   "source": [
    "println(\"Temos a correlação entre math4 e read4 de \", \n",
    "    round(cor(meap01.math4, meap01.read4), digits = 4))"
   ]
  },
  {
   "cell_type": "markdown",
   "metadata": {},
   "source": [
    "### item e)\n",
    "\n",
    "A variável exppp são os gastos por aluno. **Encontre o exppp médio e seu desvio padrão**."
   ]
  },
  {
   "cell_type": "code",
   "execution_count": 195,
   "metadata": {},
   "outputs": [
    {
     "data": {
      "text/html": [
       "<div><div style = \"float: left;\"><span>1×3 DataFrame</span></div><div style = \"clear: both;\"></div></div><div class = \"data-frame\" style = \"overflow-x: scroll;\"><table class = \"data-frame\" style = \"margin-bottom: 6px;\"><thead><tr class = \"header\"><th class = \"rowNumber\" style = \"font-weight: bold; text-align: right;\">Row</th><th style = \"text-align: left;\">variable</th><th style = \"text-align: left;\">mean</th><th style = \"text-align: left;\">desvio</th></tr><tr class = \"subheader headerLastRow\"><th class = \"rowNumber\" style = \"font-weight: bold; text-align: right;\"></th><th title = \"Symbol\" style = \"text-align: left;\">Symbol</th><th title = \"Float64\" style = \"text-align: left;\">Float64</th><th title = \"Float64\" style = \"text-align: left;\">Float64</th></tr></thead><tbody><tr><td class = \"rowNumber\" style = \"font-weight: bold; text-align: right;\">1</td><td style = \"text-align: left;\">exppp</td><td style = \"text-align: right;\">5194.87</td><td style = \"text-align: right;\">1091.89</td></tr></tbody></table></div>"
      ],
      "text/latex": [
       "\\begin{tabular}{r|ccc}\n",
       "\t& variable & mean & desvio\\\\\n",
       "\t\\hline\n",
       "\t& Symbol & Float64 & Float64\\\\\n",
       "\t\\hline\n",
       "\t1 & exppp & 5194.87 & 1091.89 \\\\\n",
       "\\end{tabular}\n"
      ],
      "text/plain": [
       "\u001b[1m1×3 DataFrame\u001b[0m\n",
       "\u001b[1m Row \u001b[0m│\u001b[1m variable \u001b[0m\u001b[1m mean    \u001b[0m\u001b[1m desvio  \u001b[0m\n",
       "     │\u001b[90m Symbol   \u001b[0m\u001b[90m Float64 \u001b[0m\u001b[90m Float64 \u001b[0m\n",
       "─────┼────────────────────────────\n",
       "   1 │ exppp     5194.87  1091.89"
      ]
     },
     "execution_count": 195,
     "metadata": {},
     "output_type": "execute_result"
    }
   ],
   "source": [
    "#describe(select(meap01, :exppp), :mean)\n",
    "#std(meap01.exppp)\n",
    "\n",
    "insertcols!(describe(select(meap01, :exppp), :mean),\n",
    "    3,\n",
    "    :desvio => std(meap01.exppp)\n",
    ")"
   ]
  },
  {
   "cell_type": "markdown",
   "metadata": {},
   "source": [
    "### item f)\n",
    "\n",
    "Suponha que a escola A gaste `USD$6.000` por estudante e a escola B gaste `USD$5.500` por estudante. Com que percentual os gastos da escola A superam os da escola B? Compare isso a 100 × [log(6.000) − log(5.500)], que é a diferença percentual aproximada baseada na diferença dos logaritmos.\n"
   ]
  },
  {
   "cell_type": "code",
   "execution_count": 196,
   "metadata": {},
   "outputs": [
    {
     "name": "stdout",
     "output_type": "stream",
     "text": [
      "Temos que os gastos da escola A que superam os da escola B em 0.39%\n"
     ]
    }
   ],
   "source": [
    "Atual = round(100*((6000-5500)/5500), digits = 4)\n",
    "log_val = round(100*(log(6000)-log(5500)),digits = 4)\n",
    "\n",
    "println(\"Temos que os gastos da escola A que superam os da escola B em \", \n",
    "    round((Atual - log_val), digits=2), \"%\")"
   ]
  },
  {
   "cell_type": "markdown",
   "metadata": {},
   "source": [
    "## Questão 2\n",
    "\n",
    "[C8] Os dados em ECONMATH foram obtidos de **estudantes de um grande curso universitário em introdução à microeconomia**. Para este probrema, estamos interessados em duas variáveis: **`score`, que é a nota do final do curso**, e, **`econhs`, que é uma variável binária que indica se um estudante fez um curso de economia no ensino médio**.\n",
    "\n",
    "Seja as seguintes variaveis:\n",
    "\n",
    "  * **age**: idade em anos;\n",
    "  * **work**: horas de trabalho por semana;\n",
    "  * **study**: horas de estudo por semana; \n",
    "  * **econhs**: se for 1, estudou economia no ensino médio;\n",
    "  * **colgpa**: faculdade GPA, inicio do semestre;\n",
    "  * **hsgpa**: nota média do ensino médio;\n",
    "  * **acteng**: pontuação do inglês ACT;\n",
    "  * **actmth**: pontuação da ACT;\n",
    "  * **act**: composto ACT;\n",
    "  * **mathscr**: pontuação do teste de matemática, 0-10;\n",
    "  * **male**: se for 1, masculino;\n",
    "  * **calculus**: se for 1, cursou cálculo;\n",
    "  * **attexc**: se for 1, se passado attndce 'excelente'; \n",
    "  * **attgood**: se for 1, se passado attndce 'bom';\n",
    "  * **fathcoll**: se for 1, o pai tem BA;\n",
    "  * **mothcoll**: se for 1, a mãe tem BA;\n",
    "  * **score**: nota do final do curso, em porcentual;   "
   ]
  },
  {
   "cell_type": "code",
   "execution_count": 197,
   "metadata": {},
   "outputs": [],
   "source": [
    "econmath = DataFrame(wooldridge(\"econmath\"));"
   ]
  },
  {
   "cell_type": "markdown",
   "metadata": {},
   "source": [
    "### item a)\n",
    "\n",
    "Quantos estudantes estão na amostra? Quantos estudantes declaram ter frequentado um curso de economia no ensino médio?"
   ]
  },
  {
   "cell_type": "code",
   "execution_count": 198,
   "metadata": {},
   "outputs": [
    {
     "data": {
      "text/html": [
       "<div><div style = \"float: left;\"><span>1×2 DataFrame</span></div><div style = \"clear: both;\"></div></div><div class = \"data-frame\" style = \"overflow-x: scroll;\"><table class = \"data-frame\" style = \"margin-bottom: 6px;\"><thead><tr class = \"header\"><th class = \"rowNumber\" style = \"font-weight: bold; text-align: right;\">Row</th><th style = \"text-align: left;\">Total_de_estudantes</th><th style = \"text-align: left;\">Alunos_que_cursou_economia_no_ensino_médio</th></tr><tr class = \"subheader headerLastRow\"><th class = \"rowNumber\" style = \"font-weight: bold; text-align: right;\"></th><th title = \"Int64\" style = \"text-align: left;\">Int64</th><th title = \"Int64\" style = \"text-align: left;\">Int64</th></tr></thead><tbody><tr><td class = \"rowNumber\" style = \"font-weight: bold; text-align: right;\">1</td><td style = \"text-align: right;\">856</td><td style = \"text-align: right;\">317</td></tr></tbody></table></div>"
      ],
      "text/latex": [
       "\\begin{tabular}{r|cc}\n",
       "\t& Total\\_de\\_estudantes & Alunos\\_que\\_cursou\\_economia\\_no\\_ensino\\_médio\\\\\n",
       "\t\\hline\n",
       "\t& Int64 & Int64\\\\\n",
       "\t\\hline\n",
       "\t1 & 856 & 317 \\\\\n",
       "\\end{tabular}\n"
      ],
      "text/plain": [
       "\u001b[1m1×2 DataFrame\u001b[0m\n",
       "\u001b[1m Row \u001b[0m│\u001b[1m Total_de_estudantes \u001b[0m\u001b[1m Alunos_que_cursou_economia_no_ensino_médio \u001b[0m\n",
       "     │\u001b[90m Int64               \u001b[0m\u001b[90m Int64                                      \u001b[0m\n",
       "─────┼─────────────────────────────────────────────────────────────────\n",
       "   1 │                 856                                         317"
      ]
     },
     "execution_count": 198,
     "metadata": {},
     "output_type": "execute_result"
    }
   ],
   "source": [
    "#nrow(econmath)\n",
    "#nrow(filter(row -> row.econhs == 1, econmath))\n",
    "\n",
    "DataFrame(Total_de_estudantes = nrow(econmath),\n",
    "    Alunos_que_cursou_economia_no_ensino_médio = nrow(filter(row -> row.econhs == 1, econmath)))"
   ]
  },
  {
   "cell_type": "markdown",
   "metadata": {},
   "source": [
    "### item b)\n",
    "\n",
    "Encontre a nota média dos alunos que frequentaram um curso de economia do ensino médio. Como se compara com a nota média daqueles que não o fizeram?"
   ]
  },
  {
   "cell_type": "code",
   "execution_count": 199,
   "metadata": {},
   "outputs": [
    {
     "data": {
      "text/html": [
       "<div><div style = \"float: left;\"><span>2×2 DataFrame</span></div><div style = \"clear: both;\"></div></div><div class = \"data-frame\" style = \"overflow-x: scroll;\"><table class = \"data-frame\" style = \"margin-bottom: 6px;\"><thead><tr class = \"header\"><th class = \"rowNumber\" style = \"font-weight: bold; text-align: right;\">Row</th><th style = \"text-align: left;\">econhs</th><th style = \"text-align: left;\">score_mean</th></tr><tr class = \"subheader headerLastRow\"><th class = \"rowNumber\" style = \"font-weight: bold; text-align: right;\"></th><th title = \"Int64\" style = \"text-align: left;\">Int64</th><th title = \"Float64\" style = \"text-align: left;\">Float64</th></tr></thead><tbody><tr><td class = \"rowNumber\" style = \"font-weight: bold; text-align: right;\">1</td><td style = \"text-align: right;\">0</td><td style = \"text-align: right;\">72.9079</td></tr><tr><td class = \"rowNumber\" style = \"font-weight: bold; text-align: right;\">2</td><td style = \"text-align: right;\">1</td><td style = \"text-align: right;\">72.0759</td></tr></tbody></table></div>"
      ],
      "text/latex": [
       "\\begin{tabular}{r|cc}\n",
       "\t& econhs & score\\_mean\\\\\n",
       "\t\\hline\n",
       "\t& Int64 & Float64\\\\\n",
       "\t\\hline\n",
       "\t1 & 0 & 72.9079 \\\\\n",
       "\t2 & 1 & 72.0759 \\\\\n",
       "\\end{tabular}\n"
      ],
      "text/plain": [
       "\u001b[1m2×2 DataFrame\u001b[0m\n",
       "\u001b[1m Row \u001b[0m│\u001b[1m econhs \u001b[0m\u001b[1m score_mean \u001b[0m\n",
       "     │\u001b[90m Int64  \u001b[0m\u001b[90m Float64    \u001b[0m\n",
       "─────┼────────────────────\n",
       "   1 │      0     72.9079\n",
       "   2 │      1     72.0759"
      ]
     },
     "execution_count": 199,
     "metadata": {},
     "output_type": "execute_result"
    }
   ],
   "source": [
    "combine(groupby(econmath, :econhs), :score => mean)"
   ]
  },
  {
   "cell_type": "code",
   "execution_count": 200,
   "metadata": {},
   "outputs": [
    {
     "name": "stdout",
     "output_type": "stream",
     "text": [
      "Os estudantes que não fizeram economia no ensino médio teve um desempenho maior daqueles que realizaram, com um diferencial de 0.832.\n"
     ]
    }
   ],
   "source": [
    "println(\"Os estudantes que não fizeram economia no ensino médio \\\n",
    "    teve um desempenho maior daqueles que realizaram, \\\n",
    "    com um diferencial de 0.832.\")"
   ]
  },
  {
   "cell_type": "markdown",
   "metadata": {},
   "source": [
    "### item c)\n",
    "\n",
    "Os resultados encontrados dizem necessariamente alguma coisa sobre o efeito causal de cursar economia no ensino médio sobre o desempenho no curso universitário? (explique).\n",
    "\n",
    "Através dos resultados obtidos, não é possível afirmar a existência de um efeito causal em cursar economia no ensino médio sobre o desempenho no curso universitário. Isso se dá devido ao modo em que o experimento foi realizado. O experimento em questão é observacional, o que dificulta o estudo de fatores de confundimento e assim portanto impossibilitando a análise de efeito causal entre os fatores."
   ]
  },
  {
   "cell_type": "markdown",
   "metadata": {},
   "source": [
    "### item d)\n",
    "\n",
    "Se quiser obter uma boa estimativa causal do efeito de fazer um curso de economia no ensino médio utilizando a diferença de médias, que experiência faria?"
   ]
  },
  {
   "cell_type": "markdown",
   "metadata": {},
   "source": [
    "Para o estudo dos efeitos de causalidade, podemos melhorar o experimento de modo a balancear as classes do tratamento de interesse adicionar possíveis fatores de confundimento no experimento. De modo a realizar um experimento balanceado, podemos obter uma amostra com um número igual de alunos que estudaram economia no ensino médio e de alunos que não estudaram. Além da realização de um experimento balanceado, para o estudo de causalidade, é interessante adicionar no conjunto de dados possíveis fatores de confundimento, artigos científico já realizados e relacionados ao assunto seriam consultados."
   ]
  }
 ],
 "metadata": {
  "kernelspec": {
   "display_name": "Julia 1.9.2",
   "language": "julia",
   "name": "julia-1.9"
  },
  "language_info": {
   "file_extension": ".jl",
   "mimetype": "application/julia",
   "name": "julia",
   "version": "1.9.2"
  }
 },
 "nbformat": 4,
 "nbformat_minor": 4
}
